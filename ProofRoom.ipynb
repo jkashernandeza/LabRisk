{
 "cells": [
  {
   "cell_type": "code",
   "execution_count": 6,
   "id": "8a933bce",
   "metadata": {},
   "outputs": [],
   "source": [
    "import requests\n",
    "import os\n",
    "import time\n",
    "import json\n",
    "from tqdm import tqdm"
   ]
  },
  {
   "cell_type": "code",
   "execution_count": 19,
   "id": "5812082d",
   "metadata": {},
   "outputs": [
    {
     "name": "stderr",
     "output_type": "stream",
     "text": [
      "\r",
      "Corriendo id:   0%|          | 0/3 [00:00<?, ?it/s]"
     ]
    },
    {
     "name": "stdout",
     "output_type": "stream",
     "text": [
      "1673751446\n"
     ]
    },
    {
     "name": "stderr",
     "output_type": "stream",
     "text": [
      "\r",
      "Corriendo id:  33%|███▎      | 1/3 [00:01<00:03,  1.51s/it]"
     ]
    },
    {
     "name": "stdout",
     "output_type": "stream",
     "text": [
      "No soy el ultimo\n",
      "1027925857392885761\n"
     ]
    },
    {
     "name": "stderr",
     "output_type": "stream",
     "text": [
      "\r",
      "Corriendo id:  67%|██████▋   | 2/3 [00:03<00:01,  1.51s/it]"
     ]
    },
    {
     "name": "stdout",
     "output_type": "stream",
     "text": [
      "No soy el ultimo\n",
      "3114190628\n"
     ]
    },
    {
     "name": "stderr",
     "output_type": "stream",
     "text": [
      "Corriendo id: 100%|██████████| 3/3 [00:04<00:00,  1.51s/it]"
     ]
    },
    {
     "name": "stdout",
     "output_type": "stream",
     "text": [
      "Soy el ultimo\n"
     ]
    },
    {
     "name": "stderr",
     "output_type": "stream",
     "text": [
      "\n"
     ]
    }
   ],
   "source": [
    "u=open(\"H:/My Drive/jkas/Mitacs/LabRisk/TwitterApi/users.json\")\n",
    "users = json.load(u)\n",
    "node = {}\n",
    "for band, userID in enumerate(tqdm(users, desc = \"Corriendo id\")):\n",
    "    print(userID[\"id\"])\n",
    "    time.sleep(1.5)\n",
    "    if band + 1 == len(users):\n",
    "        print(\"Soy el ultimo\")\n",
    "    else:\n",
    "        print(\"No soy el ultimo\")\n",
    "u.close()"
   ]
  },
  {
   "cell_type": "code",
   "execution_count": null,
   "id": "e47cf89a",
   "metadata": {},
   "outputs": [],
   "source": []
  },
  {
   "cell_type": "code",
   "execution_count": 34,
   "id": "a6f51475",
   "metadata": {},
   "outputs": [
    {
     "name": "stdout",
     "output_type": "stream",
     "text": [
      "tEI0tTpk+iuv*uKjrYvJbWMa9iJR+fv//Dw==*Qz8CS2ug0RVvaQ95Dq31rA==*X2kq2O/mG5OR5mBbRPW4BA==\n",
      "Eu15TykFcunN*WWQO60yOgw00rdSEXeZBhg==*CRhK2q3agolO8osmdjKZaA==*u752NcN++hFNTLVQhA+CYg==\n",
      "I am okay\n"
     ]
    }
   ],
   "source": [
    "import cryptocode\n",
    "\n",
    "str_encoded = cryptocode.encrypt(\"I am okay\",\"wow\")\n",
    "str_encoded2 = cryptocode.encrypt(\"I am okay\",\"wow\")\n",
    "## And then to decode it:\n",
    "str_decoded = cryptocode.decrypt(str_encoded, \"wow\")\n",
    "print(str_encoded)\n",
    "print(str_encoded2)\n",
    "print(str_decoded)"
   ]
  },
  {
   "cell_type": "code",
   "execution_count": 47,
   "id": "89ebc52c",
   "metadata": {},
   "outputs": [
    {
     "name": "stdout",
     "output_type": "stream",
     "text": [
      "I am okay\n"
     ]
    }
   ],
   "source": [
    "a=\"Eu15TykFcunN*WWQO60yOgw00rdSEXeZBhg==*CRhK2q3agolO8osmdjKZaA==*u752NcN++hFNTLVQhA+CYg==\"\n",
    "z = cryptocode.decrypt(a, \"wow\")\n",
    "print(z)"
   ]
  },
  {
   "cell_type": "code",
   "execution_count": null,
   "id": "67e27585",
   "metadata": {},
   "outputs": [],
   "source": []
  }
 ],
 "metadata": {
  "kernelspec": {
   "display_name": "Python 3 (ipykernel)",
   "language": "python",
   "name": "python3"
  },
  "language_info": {
   "codemirror_mode": {
    "name": "ipython",
    "version": 3
   },
   "file_extension": ".py",
   "mimetype": "text/x-python",
   "name": "python",
   "nbconvert_exporter": "python",
   "pygments_lexer": "ipython3",
   "version": "3.9.12"
  }
 },
 "nbformat": 4,
 "nbformat_minor": 5
}
