{
 "cells": [
  {
   "cell_type": "code",
   "execution_count": 1,
   "id": "8a933bce",
   "metadata": {},
   "outputs": [],
   "source": [
    "import requests\n",
    "import os\n",
    "import time\n",
    "import json\n",
    "from tqdm import tqdm"
   ]
  },
  {
   "cell_type": "code",
   "execution_count": 19,
   "id": "5812082d",
   "metadata": {},
   "outputs": [
    {
     "name": "stderr",
     "output_type": "stream",
     "text": [
      "\r\n",
      "Corriendo id:   0%|          | 0/3 [00:00<?, ?it/s]"
     ]
    },
    {
     "name": "stdout",
     "output_type": "stream",
     "text": [
      "1673751446\n"
     ]
    },
    {
     "name": "stderr",
     "output_type": "stream",
     "text": [
      "\r\n",
      "Corriendo id:  33%|███▎      | 1/3 [00:01<00:03,  1.51s/it]"
     ]
    },
    {
     "name": "stdout",
     "output_type": "stream",
     "text": [
      "No soy el ultimo\n",
      "1027925857392885761\n"
     ]
    },
    {
     "name": "stderr",
     "output_type": "stream",
     "text": [
      "\r\n",
      "Corriendo id:  67%|██████▋   | 2/3 [00:03<00:01,  1.51s/it]"
     ]
    },
    {
     "name": "stdout",
     "output_type": "stream",
     "text": [
      "No soy el ultimo\n",
      "3114190628\n"
     ]
    },
    {
     "name": "stderr",
     "output_type": "stream",
     "text": [
      "Corriendo id: 100%|██████████| 3/3 [00:04<00:00,  1.51s/it]"
     ]
    },
    {
     "name": "stdout",
     "output_type": "stream",
     "text": [
      "Soy el ultimo\n"
     ]
    },
    {
     "name": "stderr",
     "output_type": "stream",
     "text": [
      "\n"
     ]
    }
   ],
   "source": [
    "u=open(\"H:/My Drive/jkas/Mitacs/LabRisk/TwitterApi/users.json\")\n",
    "users = json.load(u)\n",
    "node = {}\n",
    "for band, userID in enumerate(tqdm(users, desc = \"Corriendo id\")):\n",
    "    print(userID[\"id\"])\n",
    "    time.sleep(1.5)\n",
    "    if band + 1 == len(users):\n",
    "        print(\"Soy el ultimo\")\n",
    "    else:\n",
    "        print(\"No soy el ultimo\")\n",
    "u.close()"
   ]
  },
  {
   "cell_type": "code",
   "execution_count": null,
   "id": "e47cf89a",
   "metadata": {},
   "outputs": [],
   "source": []
  },
  {
   "cell_type": "code",
   "execution_count": 34,
   "id": "a6f51475",
   "metadata": {},
   "outputs": [
    {
     "name": "stdout",
     "output_type": "stream",
     "text": [
      "tEI0tTpk+iuv*uKjrYvJbWMa9iJR+fv//Dw==*Qz8CS2ug0RVvaQ95Dq31rA==*X2kq2O/mG5OR5mBbRPW4BA==\n",
      "Eu15TykFcunN*WWQO60yOgw00rdSEXeZBhg==*CRhK2q3agolO8osmdjKZaA==*u752NcN++hFNTLVQhA+CYg==\n",
      "I am okay\n"
     ]
    }
   ],
   "source": [
    "import cryptocode\n",
    "\n",
    "str_encoded = cryptocode.encrypt(\"I am okay\",\"wow\")\n",
    "str_encoded2 = cryptocode.encrypt(\"I am okay\",\"wow\")\n",
    "## And then to decode it:\n",
    "str_decoded = cryptocode.decrypt(str_encoded, \"wow\")\n",
    "print(str_encoded)\n",
    "print(str_encoded2)\n",
    "print(str_decoded)"
   ]
  },
  {
   "cell_type": "code",
   "execution_count": 47,
   "id": "89ebc52c",
   "metadata": {},
   "outputs": [
    {
     "name": "stdout",
     "output_type": "stream",
     "text": [
      "I am okay\n"
     ]
    }
   ],
   "source": [
    "a=\"Eu15TykFcunN*WWQO60yOgw00rdSEXeZBhg==*CRhK2q3agolO8osmdjKZaA==*u752NcN++hFNTLVQhA+CYg==\"\n",
    "z = cryptocode.decrypt(a, \"wow\")\n",
    "print(z)"
   ]
  },
  {
   "cell_type": "code",
   "execution_count": 2,
   "id": "67e27585",
   "metadata": {},
   "outputs": [],
   "source": [
    "from datetime import datetime\n"
   ]
  },
  {
   "cell_type": "code",
   "execution_count": 3,
   "metadata": {},
   "outputs": [
    {
     "name": "stdout",
     "output_type": "stream",
     "text": [
      "25_07_22_105856\n"
     ]
    }
   ],
   "source": [
    "# convert timestamp to string in dd-mm-yyyy HH:MM:SS\n",
    "str_date_time = datetime.now().strftime(\"%d_%m_%y_%H%M%S%f\")[:-6]\n",
    "print(str_date_time)"
   ]
  },
  {
   "cell_type": "code",
   "execution_count": 48,
   "id": "5fc52d80",
   "metadata": {},
   "outputs": [],
   "source": [
    "\n",
    "str_date_time = datetime.now().strftime(\"%d_%m_%y_%H%M%S%f\")[:-6]\n",
    "out_file = open(\"nodes_{}.json\".format(str_date_time), \"a\")\n",
    "out_file.write(\"[\\n\")\n",
    "out_file.close()"
   ]
  },
  {
   "cell_type": "code",
   "execution_count": 3,
   "id": "ddee3ad1",
   "metadata": {},
   "outputs": [
    {
     "name": "stdout",
     "output_type": "stream",
     "text": [
      "4\n"
     ]
    }
   ],
   "source": [
    "u=open(\"H:/My Drive/jkas/Mitacs/LabRisk/TwitterApi/users.json\")\n",
    "users = json.load(u)\n",
    "print(len(users))\n",
    "u.close()"
   ]
  },
  {
   "cell_type": "code",
   "execution_count": 2,
   "id": "c8ea0535",
   "metadata": {},
   "outputs": [],
   "source": [
    "from cryptography.fernet import Fernet\n",
    "clave = Fernet.generate_key()\n",
    "f = Fernet(clave)"
   ]
  },
  {
   "cell_type": "code",
   "execution_count": 8,
   "id": "45b784cf",
   "metadata": {},
   "outputs": [
    {
     "name": "stdout",
     "output_type": "stream",
     "text": [
      "b'gAAAAABi87px7jHRbyAlV08njWghSza5pGuhvFg4bjFTLgUJVesuIS-wMunQLICeUtG-t8WEIZtQZ4ZPk3M5qLr7VASws7maYg=='\n",
      "b'gAAAAABi87pxtMmR-LbUn2YuHkqyGABJsd5MlEYrukxm1cxEYkGAPwzh6Iklyg_0-zJE47BjqdUZLS7twALujywdqb3m-o7kLA=='\n"
     ]
    }
   ],
   "source": [
    "token = f.encrypt(b\"129896\")\n",
    "print(token)\n",
    "token = f.encrypt(b\"129896\")\n",
    "print(token)"
   ]
  },
  {
   "cell_type": "code",
   "execution_count": 29,
   "id": "b2488f6b",
   "metadata": {},
   "outputs": [
    {
     "name": "stdout",
     "output_type": "stream",
     "text": [
      "Plain Text : 3854280965\n",
      "Shift pattern : 4\n",
      "Cipher: 7298624309\n"
     ]
    }
   ],
   "source": [
    "def encrypt(text,s):\n",
    "    result = ''\n",
    "    # transverse the plain text\n",
    "    for i in range(len(text)):\n",
    "        char = text[i]\n",
    "        # Encrypt uppercase characters in plain text\n",
    "        result += chr((ord(char) + s - 48) % 10 + 48)\n",
    "    return result\n",
    "#check the above function\n",
    "text = '3854280965'\n",
    "s = 4\n",
    "print (\"Plain Text : \" + text)\n",
    "print (\"Shift pattern : \" + str(s))\n",
    "print (\"Cipher: \" + encrypt(text,s))"
   ]
  },
  {
   "cell_type": "code",
   "execution_count": null,
   "id": "f93c7402",
   "metadata": {},
   "outputs": [],
   "source": []
  }
 ],
 "metadata": {
  "kernelspec": {
   "display_name": "Python 3.9.12 ('base')",
   "language": "python",
   "name": "python3"
  },
  "language_info": {
   "codemirror_mode": {
    "name": "ipython",
    "version": 3
   },
   "file_extension": ".py",
   "mimetype": "text/x-python",
   "name": "python",
   "nbconvert_exporter": "python",
   "pygments_lexer": "ipython3",
   "version": "3.9.12"
  },
  "vscode": {
   "interpreter": {
    "hash": "1da7f0e3c55ef4c04eb9a494c757c185f8d40bff63e706da2bc1feb2712d353a"
   }
  }
 },
 "nbformat": 4,
 "nbformat_minor": 5
}
