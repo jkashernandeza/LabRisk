{
 "cells": [
  {
   "cell_type": "markdown",
   "id": "48d2bd29",
   "metadata": {
    "pycharm": {
     "name": "#%% md\n"
    }
   },
   "source": [
    "###### https://github.com/twitterdev/Twitter-API-v2-sample-code"
   ]
  },
  {
   "cell_type": "code",
   "execution_count": 1,
   "id": "723f47bd",
   "metadata": {
    "pycharm": {
     "name": "#%%\n"
    }
   },
   "outputs": [],
   "source": [
    "import requests\n",
    "import os\n",
    "import time\n",
    "import json\n",
    "from tqdm import tqdm"
   ]
  },
  {
   "cell_type": "code",
   "execution_count": 76,
   "id": "2cb46e0c",
   "metadata": {
    "pycharm": {
     "name": "#%%\n"
    }
   },
   "outputs": [],
   "source": [
    "#User info ####################################################################################\n",
    "def getUserInfo(user_id):\n",
    "    # Replace with user ID below\n",
    "    return \"https://api.twitter.com/2/users/{}\".format(user_id)\n",
    "def get_paramsUserInfo():\n",
    "    return {\"user.fields\": \"public_metrics\"}\n",
    "##############################################################################################\n",
    "\n",
    "#Followers list ##############################################################################\n",
    "def getFollowers(user_id):\n",
    "    # Replace with user ID below\n",
    "    return \"https://api.twitter.com/2/users/{}/followers?max_results=1000\".format(user_id)\n",
    "def get_paramsFollowers():\n",
    "    return {\"user.fields\": \"id\"}\n",
    "##############################################################################################\n",
    "\n",
    "#Following list ##############################################################################\n",
    "def getFollowing(user_id):\n",
    "    # Replace with user ID below\n",
    "    return \"https://api.twitter.com/2/users/{}/following?max_results=1000\".format(user_id)\n",
    "def get_paramsFollowing():\n",
    "    return {\"user.fields\": \"id\"}\n",
    "##############################################################################################\n",
    "\n",
    "#Requests ####################################################################################\n",
    "def bearer_oauth(r):\n",
    "    \"\"\"\n",
    "    Method required by bearer token authentication.\n",
    "    \"\"\"\n",
    "\n",
    "    r.headers[\"Authorization\"] = f\"Bearer {bToken}\"\n",
    "    r.headers[\"User-Agent\"] = \"v2FollowersLookupPython\"\n",
    "    return r\n",
    "def connect_to_endpoint(*url):\n",
    "    response = requests.request(\"GET\", url[0], auth=bearer_oauth, params=url[1])\n",
    "    #print(response.status_code)\n",
    "    if response.status_code == 429:\n",
    "        for i in enumerate(tqdm(range(10000), desc = \"Limit of Request reached, Waiting\",position=0, leave=True)):\n",
    "            time.sleep(0.0905)\n",
    "            pass\n",
    "        response = requests.request(\"GET\", url[0], auth=bearer_oauth, params=url[1])\n",
    "    elif response.status_code != 200:\n",
    "        raise Exception(\n",
    "            \"Request returned an error: {} {}\".format(\n",
    "                response.status_code, response.text\n",
    "            )\n",
    "        )\n",
    "    return response.json()\n",
    "##############################################################################################\n",
    "\n",
    "#Getting followers list ######################################################################\n",
    "def fetchingFollowers(userInfo):\n",
    "    n = json.dumps(userInfo[\"data\"][\"public_metrics\"][\"followers_count\"])\n",
    "    loop = (int(int(n)/1000))+1\n",
    "    try:\n",
    "        del followersList\n",
    "    except Exception:\n",
    "        pass\n",
    "    followersList = []\n",
    "    urlFollowers = getFollowers(userInfo[\"data\"][\"id\"])\n",
    "    paramsFollowers = get_paramsFollowers()\n",
    "    for i in range(loop):\n",
    "        if i == 0:\n",
    "            #print(urlFollowers, paramsFollowers)\n",
    "            followers = connect_to_endpoint(urlFollowers, paramsFollowers)\n",
    "            #print(json.dumps(followers[\"data\"]))\n",
    "            for x in followers[\"data\"]:\n",
    "                followersList.append(x['id'])\n",
    "                \n",
    "            try:\n",
    "                nextToken = (json.dumps(followers[\"meta\"][\"next_token\"])).replace('\"','')\n",
    "                #print(nextToken)\n",
    "            except Exception:\n",
    "                pass\n",
    "        else:\n",
    "            new = urlFollowers+\"&pagination_token=\"+nextToken\n",
    "            aux = connect_to_endpoint(new, paramsFollowers)\n",
    "            #print(json.dumps(aux))\n",
    "            for x in aux[\"data\"]:\n",
    "                followersList.append(x['id'])\n",
    "    #print(len(followersList))\n",
    "    #print(followersList)\n",
    "    return followersList\n",
    "##############################################################################################\n",
    "\n",
    "#Getting following list ######################################################################\n",
    "def fetchingFollowing(userInfo):\n",
    "    n = json.dumps(userInfo[\"data\"][\"public_metrics\"][\"following_count\"])\n",
    "    loop = (int(int(n)/1000))+1\n",
    "    try:\n",
    "        del followingList\n",
    "    except Exception:\n",
    "        pass\n",
    "    followingList = []\n",
    "    urlFollowing = getFollowing(userInfo[\"data\"][\"id\"])\n",
    "    paramsFollowing = get_paramsFollowing()\n",
    "    for i in range(loop):\n",
    "        if i == 0:\n",
    "            #print(urlFollowing, paramsFollowing)\n",
    "            following = connect_to_endpoint(urlFollowing, paramsFollowing)\n",
    "            #print(json.dumps(following[\"data\"]))\n",
    "            for x in following[\"data\"]:\n",
    "                followingList.append(x['id'])\n",
    "                \n",
    "            try:\n",
    "                nextToken = (json.dumps(following[\"meta\"][\"next_token\"])).replace('\"','')\n",
    "                #print(nextToken)\n",
    "            except Exception:\n",
    "                pass\n",
    "        else:\n",
    "            new = urlFollowing+\"&pagination_token=\"+nextToken\n",
    "            aux = connect_to_endpoint(new, paramsFollowing)\n",
    "            #print(json.dumps(aux))\n",
    "            for x in aux[\"data\"]:\n",
    "                followingList.append(x['id'])\n",
    "    #print(len(followingList))\n",
    "    #print(followingList)\n",
    "    return followingList\n",
    "##############################################################################################\n",
    "\n",
    "def main():    \n",
    "    #userID = 1027925857392885761 #JuanC\n",
    "    #userID = 1673751446 #Ketra\n",
    "    #users = [1673751446,1027925857392885761]\n",
    "    u=open(\"H:/My Drive/jkas/Mitacs/LabRisk/TwitterApi/users.json\")\n",
    "    users = json.load(u)\n",
    "    node = {}\n",
    "    for band, userID in enumerate(tqdm(users, desc = \"Fetching\")):\n",
    "        userInfo = connect_to_endpoint(getUserInfo(userID[\"id\"]),get_paramsUserInfo())\n",
    "        node = {\"userID\" : userID[\"id\"], \"followers\" : fetchingFollowers(userInfo), \"following\" : fetchingFollowing(userInfo)}\n",
    "        #print(node)\n",
    "        out_file = open(\"nodes.json\", \"a\") \n",
    "        json.dump(node, out_file, indent = 4)\n",
    "        if band + 1 == len(users):\n",
    "            out_file.close()\n",
    "        else:\n",
    "            out_file.write(\",\\n\")\n",
    "    u.close()"
   ]
  },
  {
   "cell_type": "code",
   "execution_count": 77,
   "id": "7061d045",
   "metadata": {
    "pycharm": {
     "name": "#%%\n"
    }
   },
   "outputs": [
    {
     "name": "stderr",
     "output_type": "stream",
     "text": [
      "Limit of Request reached, Waiting:   7%|▋         | 671/10000 [01:05<15:13, 10.21it/s]\n",
      "Fetching:   0%|          | 0/3 [01:06<?, ?it/s]\n"
     ]
    },
    {
     "ename": "KeyboardInterrupt",
     "evalue": "",
     "output_type": "error",
     "traceback": [
      "\u001b[1;31m---------------------------------------------------------------------------\u001b[0m",
      "\u001b[1;31mKeyboardInterrupt\u001b[0m                         Traceback (most recent call last)",
      "Input \u001b[1;32mIn [77]\u001b[0m, in \u001b[0;36m<cell line: 1>\u001b[1;34m()\u001b[0m\n\u001b[0;32m      3\u001b[0m data \u001b[38;5;241m=\u001b[39m json\u001b[38;5;241m.\u001b[39mload(f)\n\u001b[0;32m      4\u001b[0m bToken \u001b[38;5;241m=\u001b[39m data[\u001b[38;5;124m'\u001b[39m\u001b[38;5;124mBearerToken\u001b[39m\u001b[38;5;124m'\u001b[39m]\n\u001b[1;32m----> 5\u001b[0m \u001b[43mmain\u001b[49m\u001b[43m(\u001b[49m\u001b[43m)\u001b[49m\n\u001b[0;32m      6\u001b[0m f\u001b[38;5;241m.\u001b[39mclose()\n",
      "Input \u001b[1;32mIn [76]\u001b[0m, in \u001b[0;36mmain\u001b[1;34m()\u001b[0m\n\u001b[0;32m    128\u001b[0m \u001b[38;5;28;01mfor\u001b[39;00m band, userID \u001b[38;5;129;01min\u001b[39;00m \u001b[38;5;28menumerate\u001b[39m(tqdm(users, desc \u001b[38;5;241m=\u001b[39m \u001b[38;5;124m\"\u001b[39m\u001b[38;5;124mFetching\u001b[39m\u001b[38;5;124m\"\u001b[39m)):\n\u001b[0;32m    129\u001b[0m     userInfo \u001b[38;5;241m=\u001b[39m connect_to_endpoint(getUserInfo(userID[\u001b[38;5;124m\"\u001b[39m\u001b[38;5;124mid\u001b[39m\u001b[38;5;124m\"\u001b[39m]),get_paramsUserInfo())\n\u001b[1;32m--> 130\u001b[0m     node \u001b[38;5;241m=\u001b[39m {\u001b[38;5;124m\"\u001b[39m\u001b[38;5;124muserID\u001b[39m\u001b[38;5;124m\"\u001b[39m : userID[\u001b[38;5;124m\"\u001b[39m\u001b[38;5;124mid\u001b[39m\u001b[38;5;124m\"\u001b[39m], \u001b[38;5;124m\"\u001b[39m\u001b[38;5;124mfollowers\u001b[39m\u001b[38;5;124m\"\u001b[39m : \u001b[43mfetchingFollowers\u001b[49m\u001b[43m(\u001b[49m\u001b[43muserInfo\u001b[49m\u001b[43m)\u001b[49m, \u001b[38;5;124m\"\u001b[39m\u001b[38;5;124mfollowing\u001b[39m\u001b[38;5;124m\"\u001b[39m : fetchingFollowing(userInfo)}\n\u001b[0;32m    131\u001b[0m     \u001b[38;5;66;03m#print(node)\u001b[39;00m\n\u001b[0;32m    132\u001b[0m     out_file \u001b[38;5;241m=\u001b[39m \u001b[38;5;28mopen\u001b[39m(\u001b[38;5;124m\"\u001b[39m\u001b[38;5;124mnodes.json\u001b[39m\u001b[38;5;124m\"\u001b[39m, \u001b[38;5;124m\"\u001b[39m\u001b[38;5;124ma\u001b[39m\u001b[38;5;124m\"\u001b[39m) \n",
      "Input \u001b[1;32mIn [76]\u001b[0m, in \u001b[0;36mfetchingFollowers\u001b[1;34m(userInfo)\u001b[0m\n\u001b[0;32m     62\u001b[0m \u001b[38;5;28;01mfor\u001b[39;00m i \u001b[38;5;129;01min\u001b[39;00m \u001b[38;5;28mrange\u001b[39m(loop):\n\u001b[0;32m     63\u001b[0m     \u001b[38;5;28;01mif\u001b[39;00m i \u001b[38;5;241m==\u001b[39m \u001b[38;5;241m0\u001b[39m:\n\u001b[0;32m     64\u001b[0m         \u001b[38;5;66;03m#print(urlFollowers, paramsFollowers)\u001b[39;00m\n\u001b[1;32m---> 65\u001b[0m         followers \u001b[38;5;241m=\u001b[39m \u001b[43mconnect_to_endpoint\u001b[49m\u001b[43m(\u001b[49m\u001b[43murlFollowers\u001b[49m\u001b[43m,\u001b[49m\u001b[43m \u001b[49m\u001b[43mparamsFollowers\u001b[49m\u001b[43m)\u001b[49m\n\u001b[0;32m     66\u001b[0m         \u001b[38;5;66;03m#print(json.dumps(followers[\"data\"]))\u001b[39;00m\n\u001b[0;32m     67\u001b[0m         \u001b[38;5;28;01mfor\u001b[39;00m x \u001b[38;5;129;01min\u001b[39;00m followers[\u001b[38;5;124m\"\u001b[39m\u001b[38;5;124mdata\u001b[39m\u001b[38;5;124m\"\u001b[39m]:\n",
      "Input \u001b[1;32mIn [76]\u001b[0m, in \u001b[0;36mconnect_to_endpoint\u001b[1;34m(*url)\u001b[0m\n\u001b[0;32m     37\u001b[0m \u001b[38;5;28;01mif\u001b[39;00m response\u001b[38;5;241m.\u001b[39mstatus_code \u001b[38;5;241m==\u001b[39m \u001b[38;5;241m429\u001b[39m:\n\u001b[0;32m     38\u001b[0m     \u001b[38;5;28;01mfor\u001b[39;00m i \u001b[38;5;129;01min\u001b[39;00m \u001b[38;5;28menumerate\u001b[39m(tqdm(\u001b[38;5;28mrange\u001b[39m(\u001b[38;5;241m10000\u001b[39m), desc \u001b[38;5;241m=\u001b[39m \u001b[38;5;124m\"\u001b[39m\u001b[38;5;124mLimit of Request reached, Waiting\u001b[39m\u001b[38;5;124m\"\u001b[39m,position\u001b[38;5;241m=\u001b[39m\u001b[38;5;241m0\u001b[39m, leave\u001b[38;5;241m=\u001b[39m\u001b[38;5;28;01mTrue\u001b[39;00m)):\n\u001b[1;32m---> 39\u001b[0m         \u001b[43mtime\u001b[49m\u001b[38;5;241;43m.\u001b[39;49m\u001b[43msleep\u001b[49m\u001b[43m(\u001b[49m\u001b[38;5;241;43m0.0905\u001b[39;49m\u001b[43m)\u001b[49m\n\u001b[0;32m     40\u001b[0m         \u001b[38;5;28;01mpass\u001b[39;00m\n\u001b[0;32m     41\u001b[0m     response \u001b[38;5;241m=\u001b[39m requests\u001b[38;5;241m.\u001b[39mrequest(\u001b[38;5;124m\"\u001b[39m\u001b[38;5;124mGET\u001b[39m\u001b[38;5;124m\"\u001b[39m, url[\u001b[38;5;241m0\u001b[39m], auth\u001b[38;5;241m=\u001b[39mbearer_oauth, params\u001b[38;5;241m=\u001b[39murl[\u001b[38;5;241m1\u001b[39m])\n",
      "\u001b[1;31mKeyboardInterrupt\u001b[0m: "
     ]
    }
   ],
   "source": [
    "if __name__ == \"__main__\":\n",
    "    f=open(\"H:/My Drive/jkas/Mitacs/LabRisk/TwitterApi/keys.json\")\n",
    "    data = json.load(f)\n",
    "    bToken = data['BearerToken']\n",
    "    main()\n",
    "    f.close()"
   ]
  },
  {
   "cell_type": "code",
   "execution_count": 80,
   "id": "538d328b",
   "metadata": {},
   "outputs": [
    {
     "ename": "NameError",
     "evalue": "name 'u' is not defined",
     "output_type": "error",
     "traceback": [
      "\u001b[1;31m---------------------------------------------------------------------------\u001b[0m",
      "\u001b[1;31mNameError\u001b[0m                                 Traceback (most recent call last)",
      "Input \u001b[1;32mIn [80]\u001b[0m, in \u001b[0;36m<cell line: 2>\u001b[1;34m()\u001b[0m\n\u001b[0;32m      1\u001b[0m f\u001b[38;5;241m.\u001b[39mclose()\n\u001b[1;32m----> 2\u001b[0m \u001b[43mu\u001b[49m\u001b[38;5;241m.\u001b[39mclose()\n",
      "\u001b[1;31mNameError\u001b[0m: name 'u' is not defined"
     ]
    }
   ],
   "source": [
    "f.close()\n",
    "u.close()"
   ]
  },
  {
   "cell_type": "code",
   "execution_count": null,
   "id": "5806256d",
   "metadata": {},
   "outputs": [],
   "source": []
  }
 ],
 "metadata": {
  "kernelspec": {
   "display_name": "Python 3 (ipykernel)",
   "language": "python",
   "name": "python3"
  },
  "language_info": {
   "codemirror_mode": {
    "name": "ipython",
    "version": 3
   },
   "file_extension": ".py",
   "mimetype": "text/x-python",
   "name": "python",
   "nbconvert_exporter": "python",
   "pygments_lexer": "ipython3",
   "version": "3.9.12"
  }
 },
 "nbformat": 4,
 "nbformat_minor": 5
}
