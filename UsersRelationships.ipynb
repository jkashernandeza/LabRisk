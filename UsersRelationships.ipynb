{
 "cells": [
  {
   "cell_type": "markdown",
   "id": "48d2bd29",
   "metadata": {
    "pycharm": {
     "name": "#%% md\n"
    }
   },
   "source": [
    "###### https://github.com/twitterdev/Twitter-API-v2-sample-code"
   ]
  },
  {
   "cell_type": "code",
   "execution_count": 1,
   "id": "723f47bd",
   "metadata": {
    "pycharm": {
     "name": "#%%\n"
    }
   },
   "outputs": [],
   "source": [
    "import requests\n",
    "import os\n",
    "import time\n",
    "import json\n",
    "from tqdm import tqdm"
   ]
  },
  {
   "cell_type": "code",
   "execution_count": 6,
   "id": "2cb46e0c",
   "metadata": {
    "pycharm": {
     "name": "#%%\n"
    }
   },
   "outputs": [],
   "source": [
    "#User info ####################################################################################\n",
    "def getUserInfo(user_id):\n",
    "    # Replace with user ID below\n",
    "    return \"https://api.twitter.com/2/users/{}\".format(user_id)\n",
    "def get_paramsUserInfo():\n",
    "    return {\"user.fields\": \"public_metrics\"}\n",
    "##############################################################################################\n",
    "\n",
    "#Followers list ##############################################################################\n",
    "def getFollowers(user_id):\n",
    "    # Replace with user ID below\n",
    "    return \"https://api.twitter.com/2/users/{}/followers?max_results=1000\".format(user_id)\n",
    "def get_paramsFollowers():\n",
    "    return {\"user.fields\": \"id\"}\n",
    "##############################################################################################\n",
    "\n",
    "#Following list ##############################################################################\n",
    "def getFollowing(user_id):\n",
    "    # Replace with user ID below\n",
    "    return \"https://api.twitter.com/2/users/{}/following?max_results=1000\".format(user_id)\n",
    "def get_paramsFollowing():\n",
    "    return {\"user.fields\": \"id\"}\n",
    "##############################################################################################\n",
    "\n",
    "#Requests ####################################################################################\n",
    "def bearer_oauth(r):\n",
    "    \"\"\"\n",
    "    Method required by bearer token authentication.\n",
    "    \"\"\"\n",
    "\n",
    "    r.headers[\"Authorization\"] = f\"Bearer {bToken}\"\n",
    "    r.headers[\"User-Agent\"] = \"v2FollowersLookupPython\"\n",
    "    return r\n",
    "def connect_to_endpoint(*url):\n",
    "    response = requests.request(\"GET\", url[0], auth=bearer_oauth, params=url[1])\n",
    "    #print(response.status_code)\n",
    "    if response.status_code == 429:\n",
    "        for i in enumerate(tqdm(range(10000), desc = \"Limit of Request reached, Waiting\",position=0, leave=True)):\n",
    "            time.sleep(0.0905)\n",
    "            pass\n",
    "        response = requests.request(\"GET\", url[0], auth=bearer_oauth, params=url[1])\n",
    "    elif response.status_code != 200:\n",
    "        raise Exception(\n",
    "            \"Request returned an error: {} {}\".format(\n",
    "                response.status_code, response.text\n",
    "            )\n",
    "        )\n",
    "    return response.json()\n",
    "##############################################################################################\n",
    "\n",
    "#Getting followers list ######################################################################\n",
    "def fetchingFollowers(userInfo):\n",
    "    n = json.dumps(userInfo[\"data\"][\"public_metrics\"][\"followers_count\"])\n",
    "    loop = (int(int(n)/1000))+1\n",
    "    try:\n",
    "        del followersList\n",
    "    except Exception:\n",
    "        pass\n",
    "    followersList = []\n",
    "    urlFollowers = getFollowers(userInfo[\"data\"][\"id\"])\n",
    "    paramsFollowers = get_paramsFollowers()\n",
    "    for i in range(loop):\n",
    "        if i == 0:\n",
    "            #print(urlFollowers, paramsFollowers)\n",
    "            followers = connect_to_endpoint(urlFollowers, paramsFollowers)\n",
    "            #print(json.dumps(followers[\"data\"]))\n",
    "            for x in followers[\"data\"]:\n",
    "                followersList.append(x['id'])\n",
    "                \n",
    "            try:\n",
    "                nextToken = (json.dumps(followers[\"meta\"][\"next_token\"])).replace('\"','')\n",
    "                #print(nextToken)\n",
    "            except Exception:\n",
    "                pass\n",
    "        else:\n",
    "            new = urlFollowers+\"&pagination_token=\"+nextToken\n",
    "            aux = connect_to_endpoint(new, paramsFollowers)\n",
    "            #print(json.dumps(aux))\n",
    "            for x in aux[\"data\"]:\n",
    "                followersList.append(x['id'])\n",
    "    #print(len(followersList))\n",
    "    #print(followersList)\n",
    "    return followersList\n",
    "##############################################################################################\n",
    "\n",
    "#Getting following list ######################################################################\n",
    "def fetchingFollowing(userInfo):\n",
    "    n = json.dumps(userInfo[\"data\"][\"public_metrics\"][\"following_count\"])\n",
    "    loop = (int(int(n)/1000))+1\n",
    "    try:\n",
    "        del followingList\n",
    "    except Exception:\n",
    "        pass\n",
    "    followingList = []\n",
    "    urlFollowing = getFollowing(userInfo[\"data\"][\"id\"])\n",
    "    paramsFollowing = get_paramsFollowing()\n",
    "    for i in range(loop):\n",
    "        if i == 0:\n",
    "            #print(urlFollowing, paramsFollowing)\n",
    "            following = connect_to_endpoint(urlFollowing, paramsFollowing)\n",
    "            #print(json.dumps(following[\"data\"]))\n",
    "            for x in following[\"data\"]:\n",
    "                followingList.append(x['id'])\n",
    "                \n",
    "            try:\n",
    "                nextToken = (json.dumps(following[\"meta\"][\"next_token\"])).replace('\"','')\n",
    "                #print(nextToken)\n",
    "            except Exception:\n",
    "                pass\n",
    "        else:\n",
    "            new = urlFollowing+\"&pagination_token=\"+nextToken\n",
    "            aux = connect_to_endpoint(new, paramsFollowing)\n",
    "            #print(json.dumps(aux))\n",
    "            for x in aux[\"data\"]:\n",
    "                followingList.append(x['id'])\n",
    "    #print(len(followingList))\n",
    "    #print(followingList)\n",
    "    return followingList\n",
    "##############################################################################################\n",
    "\n",
    "def main():    \n",
    "    #userID = 1027925857392885761 #JuanC\n",
    "    #userID = 1673751446 #Ketra\n",
    "    #users = [1673751446,1027925857392885761]\n",
    "    u=open(\"H:/My Drive/jkas/Mitacs/LabRisk/TwitterApi/users.json\")\n",
    "    users = json.load(u)\n",
    "    noRequest = 0\n",
    "    for i in tqdm(users,desc=\"Calculating time\"):\n",
    "        x = connect_to_endpoint(getUserInfo(i[\"id\"]),get_paramsUserInfo())\n",
    "        n = json.dumps(x[\"data\"][\"public_metrics\"][\"following_count\"])\n",
    "        noRequest += (int(int(n)/1000))+1\n",
    "        n = json.dumps(x[\"data\"][\"public_metrics\"][\"followers_count\"])\n",
    "        noRequest += (int(int(n)/1000))+1\n",
    "    timeRequired = noRequest/15\n",
    "    if timeRequired > 1:\n",
    "        flag = input(\"Time request will be {} min\\nContinue? (Y/N):\".format(int(timeRequired)*15))\n",
    "        if flag != \"Y\" or \"y\":\n",
    "            quit()\n",
    "    node = {}\n",
    "    for band, userID in enumerate(tqdm(users, desc = \"Fetching\")):\n",
    "        userInfo = connect_to_endpoint(getUserInfo(userID[\"id\"]),get_paramsUserInfo())\n",
    "        node = {\"userID\" : userID[\"id\"], \"followers\" : fetchingFollowers(userInfo), \"following\" : fetchingFollowing(userInfo)}\n",
    "        #print(node)\n",
    "        out_file = open(\"nodes.json\", \"a\") \n",
    "        json.dump(node, out_file, indent = 4)\n",
    "        if band + 1 == len(users):\n",
    "            out_file.close()\n",
    "        else:\n",
    "            out_file.write(\",\\n\")\n",
    "    u.close()"
   ]
  },
  {
   "cell_type": "code",
   "execution_count": 7,
   "id": "7061d045",
   "metadata": {
    "pycharm": {
     "name": "#%%\n"
    }
   },
   "outputs": [
    {
     "name": "stderr",
     "output_type": "stream",
     "text": [
      "Calculating time: 100%|██████████| 4/4 [00:00<00:00,  4.21it/s]\n",
      "Fetching: 100%|██████████| 4/4 [00:06<00:00,  1.55s/it]\n"
     ]
    }
   ],
   "source": [
    "if __name__ == \"__main__\":\n",
    "    f=open(\"H:/My Drive/jkas/Mitacs/LabRisk/TwitterApi/keys.json\")\n",
    "    data = json.load(f)\n",
    "    bToken = data['BearerToken']\n",
    "    main()\n",
    "    f.close()"
   ]
  },
  {
   "cell_type": "code",
   "execution_count": null,
   "id": "5806256d",
   "metadata": {},
   "outputs": [],
   "source": []
  }
 ],
 "metadata": {
  "kernelspec": {
   "display_name": "Python 3.9.12 ('base')",
   "language": "python",
   "name": "python3"
  },
  "language_info": {
   "codemirror_mode": {
    "name": "ipython",
    "version": 3
   },
   "file_extension": ".py",
   "mimetype": "text/x-python",
   "name": "python",
   "nbconvert_exporter": "python",
   "pygments_lexer": "ipython3",
   "version": "3.9.12"
  },
  "vscode": {
   "interpreter": {
    "hash": "1da7f0e3c55ef4c04eb9a494c757c185f8d40bff63e706da2bc1feb2712d353a"
   }
  }
 },
 "nbformat": 4,
 "nbformat_minor": 5
}
